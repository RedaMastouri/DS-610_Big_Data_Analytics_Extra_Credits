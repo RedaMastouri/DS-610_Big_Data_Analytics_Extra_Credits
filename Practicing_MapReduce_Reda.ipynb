{
 "cells": [
  {
   "cell_type": "markdown",
   "metadata": {},
   "source": [
    "# MapReduce is a processing technique and a program model for distributed computing.\n",
    "\n",
    "The MapReduce algorithm contains two important tasks, namely Map and Reduce. Map takes a set of data and converts it into another set of data, where individual elements are broken down into tuples (key/value pairs). Secondly, reduce task, which takes the output from a map as an input and combines those data tuples into a smaller set of tuples. As the sequence of the name MapReduce implies, the reduce task is always performed after the map job.\n",
    "\n",
    "The major advantage of MapReduce is that it is easy to scale data processing over multiple computing nodes. Under the MapReduce model, the data processing primitives are called mappers and reducers.\n",
    "\n",
    "Decomposing a data processing application into mappers and reducers is sometimes nontrivial. But, once we write an application in the MapReduce form, scaling the application to run over hundreds, thousands, or even tens of thousands of machines in a cluster is merely a configuration change.\n",
    "\n",
    "MapReduce Algorithm uses the following three main steps:\n",
    "\n",
    "    Map Function\n",
    "    Shuffle Function\n",
    "    Reduce Function\n"
   ]
  },
  {
   "cell_type": "code",
   "execution_count": 1,
   "metadata": {},
   "outputs": [
    {
     "data": {
      "image/png": "[encoded data removed]",
      "text/plain": [
       "<IPython.core.display.Image object>"
      ]
     },
     "execution_count": 1,
     "metadata": {},
     "output_type": "execute_result"
    }
   ],
   "source": [
    "from IPython.display import Image\n",
    "Image(filename='./screenshots/MapReduce.png')\n",
    "\n"
   ]
  },
  {
   "cell_type": "code",
   "execution_count": 2,
   "metadata": {},
   "outputs": [],
   "source": [
    "from functools import reduce\n",
    "from itertools import groupby"
   ]
  },
  {
   "cell_type": "markdown",
   "metadata": {},
   "source": [
    "# Map, Reduce, Groupby Functions"
   ]
  },
  {
   "cell_type": "code",
   "execution_count": 4,
   "metadata": {},
   "outputs": [
    {
     "name": "stdout",
     "output_type": "stream",
     "text": [
      "Help on class map in module builtins:\n",
      "\n",
      "class map(object)\n",
      " |  map(func, *iterables) --> map object\n",
      " |  \n",
      " |  Make an iterator that computes the function using arguments from\n",
      " |  each of the iterables.  Stops when the shortest iterable is exhausted.\n",
      " |  \n",
      " |  Methods defined here:\n",
      " |  \n",
      " |  __getattribute__(self, name, /)\n",
      " |      Return getattr(self, name).\n",
      " |  \n",
      " |  __iter__(self, /)\n",
      " |      Implement iter(self).\n",
      " |  \n",
      " |  __next__(self, /)\n",
      " |      Implement next(self).\n",
      " |  \n",
      " |  __reduce__(...)\n",
      " |      Return state information for pickling.\n",
      " |  \n",
      " |  ----------------------------------------------------------------------\n",
      " |  Static methods defined here:\n",
      " |  \n",
      " |  __new__(*args, **kwargs) from builtins.type\n",
      " |      Create and return a new object.  See help(type) for accurate signature.\n",
      "\n"
     ]
    }
   ],
   "source": [
    "'''\n",
    "Getting help on the map structure\n",
    "'''\n",
    "\n",
    "help(map)"
   ]
  },
  {
   "cell_type": "code",
   "execution_count": 5,
   "metadata": {},
   "outputs": [],
   "source": [
    "'''\n",
    "Sample function\n",
    "'''\n",
    "\n",
    "\n",
    "def my_sum(a):\n",
    "    return a + a + a"
   ]
  },
  {
   "cell_type": "code",
   "execution_count": 8,
   "metadata": {},
   "outputs": [
    {
     "data": {
      "text/plain": [
       "21"
      ]
     },
     "execution_count": 8,
     "metadata": {},
     "output_type": "execute_result"
    }
   ],
   "source": [
    "'''\n",
    "Calling sum function\n",
    "'''\n",
    "my_sum(7)"
   ]
  },
  {
   "cell_type": "code",
   "execution_count": 9,
   "metadata": {},
   "outputs": [
    {
     "data": {
      "text/plain": [
       "[1, 2, 3, 4]"
      ]
     },
     "execution_count": 9,
     "metadata": {},
     "output_type": "execute_result"
    }
   ],
   "source": [
    "'''\n",
    "Creating a list\n",
    "'''\n",
    "mylist = [1,2,3,4]\n",
    "mylist"
   ]
  },
  {
   "cell_type": "code",
   "execution_count": 13,
   "metadata": {},
   "outputs": [
    {
     "data": {
      "text/plain": [
       "[3, 6, 9, 12]"
      ]
     },
     "execution_count": 13,
     "metadata": {},
     "output_type": "execute_result"
    }
   ],
   "source": [
    "'''\n",
    "Making a sort of mapping between the output of sum, mylist and a new list\n",
    "'''\n",
    "\n",
    "list(map(my_sum, mylist))"
   ]
  },
  {
   "cell_type": "code",
   "execution_count": 15,
   "metadata": {},
   "outputs": [
    {
     "name": "stdout",
     "output_type": "stream",
     "text": [
      "Help on class groupby in module itertools:\n",
      "\n",
      "class groupby(builtins.object)\n",
      " |  groupby(iterable, key=None)\n",
      " |  \n",
      " |  make an iterator that returns consecutive keys and groups from the iterable\n",
      " |  \n",
      " |  iterable\n",
      " |    Elements to divide into groups according to the key function.\n",
      " |  key\n",
      " |    A function for computing the group category for each element.\n",
      " |    If the key function is not specified or is None, the element itself\n",
      " |    is used for grouping.\n",
      " |  \n",
      " |  Methods defined here:\n",
      " |  \n",
      " |  __getattribute__(self, name, /)\n",
      " |      Return getattr(self, name).\n",
      " |  \n",
      " |  __iter__(self, /)\n",
      " |      Implement iter(self).\n",
      " |  \n",
      " |  __next__(self, /)\n",
      " |      Implement next(self).\n",
      " |  \n",
      " |  __reduce__(...)\n",
      " |      Return state information for pickling.\n",
      " |  \n",
      " |  __setstate__(...)\n",
      " |      Set state information for unpickling.\n",
      " |  \n",
      " |  ----------------------------------------------------------------------\n",
      " |  Static methods defined here:\n",
      " |  \n",
      " |  __new__(*args, **kwargs) from builtins.type\n",
      " |      Create and return a new object.  See help(type) for accurate signature.\n",
      "\n"
     ]
    }
   ],
   "source": [
    "'''\n",
    "Getting help on groupby\n",
    "'''\n",
    "help(groupby)"
   ]
  },
  {
   "cell_type": "code",
   "execution_count": 16,
   "metadata": {},
   "outputs": [
    {
     "data": {
      "text/plain": [
       "[('a', <itertools._grouper at 0x23dc77b59d0>),\n",
       " ('b', <itertools._grouper at 0x23dc77b57c0>)]"
      ]
     },
     "execution_count": 16,
     "metadata": {},
     "output_type": "execute_result"
    }
   ],
   "source": [
    "'''\n",
    "Another example of a list of tuples\n",
    "'''\n",
    "listoff = [('a', 1), ('a', 2), ('b', 5)]\n",
    "list(groupby(listoff, key=lambda x: x[0]))"
   ]
  },
  {
   "cell_type": "code",
   "execution_count": 17,
   "metadata": {},
   "outputs": [
    {
     "name": "stdout",
     "output_type": "stream",
     "text": [
      "Help on built-in function reduce in module _functools:\n",
      "\n",
      "reduce(...)\n",
      "    reduce(function, sequence[, initial]) -> value\n",
      "    \n",
      "    Apply a function of two arguments cumulatively to the items of a sequence,\n",
      "    from left to right, so as to reduce the sequence to a single value.\n",
      "    For example, reduce(lambda x, y: x+y, [1, 2, 3, 4, 5]) calculates\n",
      "    ((((1+2)+3)+4)+5).  If initial is present, it is placed before the items\n",
      "    of the sequence in the calculation, and serves as a default when the\n",
      "    sequence is empty.\n",
      "\n"
     ]
    }
   ],
   "source": [
    "'''\n",
    "What is Reduce\n",
    "'''\n",
    "help(reduce)"
   ]
  },
  {
   "cell_type": "code",
   "execution_count": 18,
   "metadata": {},
   "outputs": [
    {
     "data": {
      "text/plain": [
       "6"
      ]
     },
     "execution_count": 18,
     "metadata": {},
     "output_type": "execute_result"
    }
   ],
   "source": [
    "'''\n",
    "Let's try that out\n",
    "\n",
    "# How it works for reduce\n",
    "# 1. [1, 2, 3]\n",
    "# 2. [3, 3]\n",
    "# 3. [6]\n",
    "# 3. 6\n",
    "\n",
    "it is just a fancy loop via lamda to reduce the input data\n",
    "'''\n",
    "\n",
    "reduce(lambda x, y: x + y, [1, 2, 3])"
   ]
  },
  {
   "cell_type": "markdown",
   "metadata": {},
   "source": [
    "# Mapping"
   ]
  },
  {
   "cell_type": "code",
   "execution_count": 77,
   "metadata": {},
   "outputs": [],
   "source": [
    "'''\n",
    "Let's take a list of strings \n",
    "'''\n",
    "\n",
    "words = ['Deer', 'Bear', 'River', 'Car','Car', 'River', 'Deer', 'Car', 'Bear']"
   ]
  },
  {
   "cell_type": "code",
   "execution_count": 78,
   "metadata": {},
   "outputs": [
    {
     "name": "stdout",
     "output_type": "stream",
     "text": [
      "[('Deer', 1), ('Bear', 1), ('River', 1), ('Car', 1), ('Car', 1), ('River', 1), ('Deer', 1), ('Car', 1), ('Bear', 1)]\n"
     ]
    }
   ],
   "source": [
    "'''\n",
    "Key pairing\n",
    "'''\n",
    "\n",
    "mapping = list(map(lambda x: (x, 1), words))\n",
    "print(mapping)"
   ]
  },
  {
   "cell_type": "markdown",
   "metadata": {},
   "source": [
    "# Shuffling"
   ]
  },
  {
   "cell_type": "code",
   "execution_count": 79,
   "metadata": {},
   "outputs": [
    {
     "name": "stdout",
     "output_type": "stream",
     "text": [
      "[('Bear', 1), ('Bear', 1), ('Car', 1), ('Car', 1), ('Car', 1), ('Deer', 1), ('Deer', 1), ('River', 1), ('River', 1)]\n"
     ]
    }
   ],
   "source": [
    "'''\n",
    "now shulling the above mapped key-pairs\n",
    "via the use of merge sort: Even alphanumericaly\n",
    "'''\n",
    "\n",
    "sorted_mapping = sorted(mapping)\n",
    "print(sorted_mapping)"
   ]
  },
  {
   "cell_type": "markdown",
   "metadata": {},
   "source": [
    "# Reducing"
   ]
  },
  {
   "cell_type": "code",
   "execution_count": 80,
   "metadata": {},
   "outputs": [],
   "source": [
    "'''\n",
    "Now done with mapping till shuffling\n",
    "Let's reduce this headache, \n",
    "it goes by the use of groupby \n",
    "#### needed librairies####\n",
    "from functools import reduce\n",
    "from itertools import groupby\n",
    "#############################\n",
    "\n",
    "Then use of a for loop to append the groups per keys\n",
    "'''\n",
    "# There we go\n",
    "\n",
    "# ------ breakdown of 'Reducing' Phase ---------\n",
    "grouper = groupby(sorted_mapping, lambda p: p[0])\n"
   ]
  },
  {
   "cell_type": "code",
   "execution_count": 81,
   "metadata": {},
   "outputs": [
    {
     "name": "stdout",
     "output_type": "stream",
     "text": [
      "Bear\n",
      "Key-pair is:  [('Bear', 1), ('Bear', 1)]\n",
      "Key vlaue [1, 1]\n",
      "Count of keys: 2\n",
      "Car\n",
      "Key-pair is:  [('Car', 1), ('Car', 1), ('Car', 1)]\n",
      "Key vlaue [1, 1, 1]\n",
      "Count of keys: 3\n",
      "Deer\n",
      "Key-pair is:  [('Deer', 1), ('Deer', 1)]\n",
      "Key vlaue [1, 1]\n",
      "Count of keys: 2\n",
      "River\n",
      "Key-pair is:  [('River', 1), ('River', 1)]\n",
      "Key vlaue [1, 1]\n",
      "Count of keys: 2\n"
     ]
    }
   ],
   "source": [
    "results = []\n",
    "\n",
    "# loop through each group\n",
    "for group in grouper:\n",
    "    # key that is in the group\n",
    "    key = group[0] \n",
    "    print(key)\n",
    "    \n",
    "    # list of groups for this key\n",
    "    key_value_pairs = list(group[1]) \n",
    "    print('Key-pair is: ', key_value_pairs)\n",
    "    \n",
    "    # only values for current key\n",
    "    values_for_this_key = list(map(lambda p: p[1], key_value_pairs)) \n",
    "    values_for_this_key = [i[1] for i in key_value_pairs]\n",
    "    print('Key vlaue', values_for_this_key)\n",
    "    \n",
    "    # final part of map 'reduce', for this key\n",
    "    count_of_current_key = reduce(lambda x, y: x + y, values_for_this_key) \n",
    "    print('Count of keys:', count_of_current_key)\n",
    "    \n",
    "    # put it to results\n",
    "    results.append((key, count_of_current_key))\n",
    "\n",
    "    # runs only one if break is uncommented\n",
    "    # break"
   ]
  },
  {
   "cell_type": "code",
   "execution_count": 82,
   "metadata": {},
   "outputs": [
    {
     "data": {
      "text/plain": [
       "[('Bear', 2), ('Car', 3), ('Deer', 2), ('River', 2)]"
      ]
     },
     "execution_count": 82,
     "metadata": {},
     "output_type": "execute_result"
    }
   ],
   "source": [
    "'''\n",
    "Since the list results contains all what it has been reduced, \n",
    "Let's plot that out\n",
    "'''\n",
    "results"
   ]
  },
  {
   "cell_type": "code",
   "execution_count": 83,
   "metadata": {},
   "outputs": [
    {
     "name": "stdout",
     "output_type": "stream",
     "text": [
      "[('Bear', 2), ('Car', 3), ('Deer', 2), ('River', 2)]\n"
     ]
    }
   ],
   "source": [
    "'''\n",
    "Final phase of Reduce is to come up with the connect the ends all in one step\n",
    "These resumes the above all in one step (Only after shuffling resulting in sorted_mapping)\n",
    "'''\n",
    "\n",
    "grouper = groupby(sorted_mapping, lambda p: p[0])\n",
    "\n",
    "final = map(\n",
    "    lambda l: (l[0], reduce(lambda x, y: x + y, map(lambda p: p[1], l[1]))), \n",
    "    grouper # <- [('Bear', 1), ('Bear', 1)] ---->     l[0] = 'Bear'     and      l[1] = 1\n",
    ")\n",
    "print(list(final))\n",
    "\n"
   ]
  },
  {
   "cell_type": "code",
   "execution_count": 84,
   "metadata": {},
   "outputs": [
    {
     "data": {
      "text/plain": [
       "[('Bear', 2), ('Car', 3), ('Deer', 2), ('River', 2)]"
      ]
     },
     "execution_count": 84,
     "metadata": {},
     "output_type": "execute_result"
    }
   ],
   "source": [
    "results"
   ]
  },
  {
   "cell_type": "markdown",
   "metadata": {},
   "source": [
    "Same exact thing "
   ]
  },
  {
   "cell_type": "markdown",
   "metadata": {},
   "source": [
    "# Single Machine and Multiple Machines"
   ]
  },
  {
   "cell_type": "code",
   "execution_count": 53,
   "metadata": {},
   "outputs": [
    {
     "name": "stdout",
     "output_type": "stream",
     "text": [
      "Overwriting single_machine.py\n"
     ]
    }
   ],
   "source": [
    "%%writefile single_machine.py\n",
    "# single_machine.py\n",
    "\n",
    "import re\n",
    "import json\n",
    "import itertools\n",
    "\n",
    "# remove any non-words and split lines into separate words\n",
    "# finally, convert all words to lowercase\n",
    "def splitter(line):\n",
    "    line = re.sub(r'^\\W+|\\W+$', '', line)\n",
    "    return map(str.lower, re.split(r'\\W+', line))\n",
    "\n",
    "def take(n, iterable):\n",
    "    \"Return first n items of the iterable as a list\"\n",
    "    return list(itertools.islice(iterable, n))\n",
    "\n",
    "sums = {}\n",
    "\n",
    "try:\n",
    "    in_file = open('Readme.md', 'r')\n",
    "\n",
    "    for line in in_file:\n",
    "        for word in splitter(line):\n",
    "            word = word.lower()\n",
    "            sums[word] = sums.get(word, 0) + 1\n",
    "                 \n",
    "    in_file.close()\n",
    "\n",
    "except IOError:\n",
    "    print(\"error performing file operation\")\n",
    "else:\n",
    "    M = max(sums.keys(), key=lambda k: sums[k])\n",
    "\n",
    "print(\"max: {} = {}\".format(M, sums[M]))\n",
    "\n",
    "print(json.dumps(take(10, sums.items()), sort_keys=True))"
   ]
  },
  {
   "cell_type": "code",
   "execution_count": 54,
   "metadata": {},
   "outputs": [
    {
     "name": "stdout",
     "output_type": "stream",
     "text": [
      "max:  = 18\n",
      "[[\"mapreduce\", 3], [\"with\", 4], [\"python\", 1], [\"\", 18], [\"find\", 6], [\"a\", 6], [\"few\", 1], [\"answers\", 1], [\"from\", 4], [\"large\", 1]]\n",
      "Wall time: 128 ms\n"
     ]
    }
   ],
   "source": [
    "%%time\n",
    "\n",
    "! python single_machine.py"
   ]
  },
  {
   "cell_type": "code",
   "execution_count": 55,
   "metadata": {},
   "outputs": [
    {
     "name": "stdout",
     "output_type": "stream",
     "text": [
      "Writing mapping.py\n"
     ]
    }
   ],
   "source": [
    "%%writefile mapping.py\n",
    "# mapping.py\n",
    "import re\n",
    "\n",
    "# remove any non-words and split lines into separate words\n",
    "# finally, convert all words to lowercase\n",
    "def splitter(line):\n",
    "    line = re.sub(r'^\\W+|\\W+$', '', line)\n",
    "    return map(str.lower, re.split(r'\\W+', line))\n",
    "    \n",
    "input_file = 'Readme.md'\n",
    "map_file = 'Readme.md.map'\n",
    "\n",
    "# Implement our mapping function\n",
    "\n",
    "sums = {}\n",
    "try:\n",
    "    in_file = open(input_file, 'r')\n",
    "    out_file = open(map_file, 'w')\n",
    "\n",
    "    for line in in_file:\n",
    "        for word in splitter(line):\n",
    "            out_file.write(word.lower() + \"\\t1\\n\") # Separate key and value with 'tab'\n",
    "            \n",
    "    in_file.close()\n",
    "    out_file.close()\n",
    "\n",
    "except IOError:\n",
    "    print(\"error performing file operation\")"
   ]
  },
  {
   "cell_type": "code",
   "execution_count": 56,
   "metadata": {},
   "outputs": [
    {
     "name": "stdout",
     "output_type": "stream",
     "text": [
      "Wall time: 143 ms\n"
     ]
    }
   ],
   "source": [
    "%%time\n",
    "\n",
    "! python mapping.py"
   ]
  },
  {
   "cell_type": "code",
   "execution_count": 57,
   "metadata": {},
   "outputs": [
    {
     "name": "stdout",
     "output_type": "stream",
     "text": [
      "Writing shuffling.py\n"
     ]
    }
   ],
   "source": [
    "%%writefile shuffling.py\n",
    "# shuffling.py\n",
    "\n",
    "map_file = 'Readme.md.map'\n",
    "sorted_map_file = 'Readme.md.map.sorted'\n",
    "\n",
    "def build_index(filename):\n",
    "    index = []\n",
    "    f = open(filename)\n",
    "    while True:\n",
    "        offset = f.tell()\n",
    "        line = f.readline()\n",
    "        if not line:\n",
    "            break\n",
    "        length = len(line)\n",
    "        col = line.split('\\t')[0].strip()\n",
    "        index.append((col, offset, length))\n",
    "    f.close()\n",
    "    index.sort()\n",
    "    return index\n",
    "\n",
    "try:\n",
    "    index = build_index(map_file)\n",
    "    in_file = open(map_file, 'r')\n",
    "    out_file = open(sorted_map_file, 'w')\n",
    "    for col, offset, length in index:\n",
    "        in_file.seek(offset)\n",
    "        out_file.write(in_file.read(length))\n",
    "    in_file.close()\n",
    "    out_file.close()\n",
    "except IOError:\n",
    "    print(\"error performing file operation\")"
   ]
  },
  {
   "cell_type": "code",
   "execution_count": 58,
   "metadata": {},
   "outputs": [
    {
     "name": "stdout",
     "output_type": "stream",
     "text": [
      "Wall time: 147 ms\n"
     ]
    }
   ],
   "source": [
    "%%time\n",
    "\n",
    "! python shuffling.py"
   ]
  },
  {
   "cell_type": "code",
   "execution_count": 59,
   "metadata": {},
   "outputs": [
    {
     "name": "stdout",
     "output_type": "stream",
     "text": [
      "Writing reducing.py\n"
     ]
    }
   ],
   "source": [
    "%%writefile reducing.py\n",
    "# reducing.py\n",
    "\n",
    "import json\n",
    "import itertools\n",
    "\n",
    "def take(n, iterable):\n",
    "    \"Return first n items of the iterable as a list\"\n",
    "    return list(itertools.islice(iterable, n))\n",
    "\n",
    "sums = {}\n",
    "sorted_map_file = 'Readme.md.map.sorted'\n",
    "reduced_map_file = 'Readme.md.map.reduced'\n",
    "\n",
    "previous = None\n",
    "M = [None, 0]\n",
    "\n",
    "def checkmax(key, sum):\n",
    "    global m, M\n",
    "    if M[1] < sum:\n",
    "        M[1] = sum\n",
    "        M[0] = key\n",
    "\n",
    "try:\n",
    "    in_file = open(sorted_map_file, 'r')\n",
    "    for line in in_file:\n",
    "        key, value = line.split('\\t')\n",
    "        \n",
    "        if key != previous:\n",
    "            if previous is not None:\n",
    "                checkmax(previous, sum)\n",
    "            previous = key\n",
    "            sum = 0\n",
    "            \n",
    "        sum += int(value)\n",
    "        \n",
    "    checkmax(previous, sum)\n",
    "    in_file.close()\n",
    "except IOError:\n",
    "    print(\"error performing file operation\")\n",
    "    \n",
    "print(\"max: %s = %d\" % (M[0], M[1]))\n",
    "with open(reduced_map_file, 'w+') as stream:\n",
    "    json.dump(take(10, sums.items()), stream, sort_keys=True)"
   ]
  },
  {
   "cell_type": "code",
   "execution_count": 60,
   "metadata": {},
   "outputs": [
    {
     "name": "stdout",
     "output_type": "stream",
     "text": [
      "max:  = 18\n",
      "Wall time: 125 ms\n"
     ]
    }
   ],
   "source": [
    "%%time\n",
    "\n",
    "! python reducing.py"
   ]
  },
  {
   "cell_type": "code",
   "execution_count": null,
   "metadata": {},
   "outputs": [],
   "source": []
  }
 ],
 "metadata": {
  "kernelspec": {
   "display_name": "Python 3",
   "language": "python",
   "name": "python3"
  },
  "language_info": {
   "codemirror_mode": {
    "name": "ipython",
    "version": 3
   },
   "file_extension": ".py",
   "mimetype": "text/x-python",
   "name": "python",
   "nbconvert_exporter": "python",
   "pygments_lexer": "ipython3",
   "version": "3.8.5"
  }
 },
 "nbformat": 4,
 "nbformat_minor": 4
}
